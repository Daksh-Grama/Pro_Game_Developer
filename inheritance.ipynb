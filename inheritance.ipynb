{
 "cells": [
  {
   "cell_type": "code",
   "execution_count": null,
   "id": "885c64d0",
   "metadata": {},
   "outputs": [],
   "source": [
    "# Inheritance\n",
    "# Through inheritance concept we will how one class achieves property from another class \n",
    "# We will see different type of inheritance examples like : Single inheritance, multilevel inheritance and multiple inheritance"
   ]
  },
  {
   "cell_type": "code",
   "execution_count": 3,
   "id": "14dff041",
   "metadata": {},
   "outputs": [
    {
     "name": "stdout",
     "output_type": "stream",
     "text": [
      "Buddy\n",
      "4 \n",
      " Canine\n"
     ]
    }
   ],
   "source": [
    "# Create a dog class\n",
    "\n",
    "class Dog:\n",
    "    species = \"Canine\" # class attribute\n",
    "\n",
    "    def __init__(self, name, age):\n",
    "        self.name = name # instance attribute\n",
    "        self.age = age # instance attribute\n",
    "        \n",
    "# Create an object of dog class\n",
    "dog1 = Dog(\"Buddy\", 4)\n",
    "print(dog1.name)\n",
    "print(dog1.age, \"\\n\", dog1.species)"
   ]
  },
  {
   "cell_type": "code",
   "execution_count": 8,
   "id": "0d069455",
   "metadata": {},
   "outputs": [
    {
     "name": "stdout",
     "output_type": "stream",
     "text": [
      "Buddy\n",
      "4\n",
      "Canine\n",
      "Charlie\n",
      "6\n",
      "Canine\n",
      "\n",
      "\n",
      "Max\n",
      "Canine\n",
      "Max\n",
      "4\n",
      "Feline\n",
      "Charlie\n",
      "6\n",
      "Feline\n"
     ]
    }
   ],
   "source": [
    "class Dog:\n",
    "    species = \"Canine\" # class attribute\n",
    "\n",
    "    def __init__(self, name, age):\n",
    "        self.name = name # instance attribute\n",
    "        self.age = age # instance attribute\n",
    "        \n",
    "# Create an object of dog class\n",
    "dog1 = Dog(\"Buddy\", 4)\n",
    "dog2 = Dog(\"Charlie\", 6)\n",
    "\n",
    "print(dog1.name)\n",
    "print(dog1.age) \n",
    "print(dog1.species)\n",
    "print(dog2.name)\n",
    "print(dog2.age)\n",
    "print(dog2.species)\n",
    "\n",
    "print(\"\\n\")\n",
    "\n",
    "# Modify instance variable\n",
    "dog1.name = \"Max\"\n",
    "print(dog1.name)\n",
    "print(dog1.species)\n",
    "\n",
    "# Modify instance variable\n",
    "Dog.species = \"Feline\"\n",
    "print(dog1.name)\n",
    "print(dog1.age) \n",
    "print(dog1.species)\n",
    "print(dog2.name)\n",
    "print(dog2.age)\n",
    "print(dog2.species)\n",
    "\n"
   ]
  },
  {
   "cell_type": "code",
   "execution_count": 9,
   "id": "d78bbe5b",
   "metadata": {},
   "outputs": [
    {
     "name": "stdout",
     "output_type": "stream",
     "text": [
      "Dog's name : Buddy\n",
      "Labrador Woofs\n"
     ]
    }
   ],
   "source": [
    "# Single Inheritance\n",
    "class Dog:\n",
    "    def __init__(self, name):\n",
    "        self.name = name\n",
    "\n",
    "    def display_name(self):\n",
    "        print(f\"Dog's name : {self.name}\")\n",
    "\n",
    "class Labrador(Dog):\n",
    "    def sound(self):\n",
    "        print(\"Labrador Woofs\")\n",
    "\n",
    "\n",
    "lab = Labrador(\"Buddy\")\n",
    "lab.display_name()\n",
    "lab.sound()\n"
   ]
  },
  {
   "cell_type": "code",
   "execution_count": null,
   "id": "f3711ab9",
   "metadata": {},
   "outputs": [
    {
     "name": "stdout",
     "output_type": "stream",
     "text": [
      "Dog's name : Max\n",
      "Labrador Woofs\n",
      "Max aged 8 guides the way!\n"
     ]
    }
   ],
   "source": [
    "# Multilevel Inheritance\n",
    "class Dog:\n",
    "    def __init__(self, name, Age):\n",
    "        self.name = name\n",
    "        self.Age = Age\n",
    "\n",
    "    def display_name(self):\n",
    "        print(f\"Dog's name : {self.name}\")\n",
    "\n",
    "class Labrador(Dog):\n",
    "    def sound(self):\n",
    "        print(\"Labrador Woofs\")\n",
    "\n",
    "class GuideDog(Labrador):          \n",
    "\n",
    "    def guide(self):\n",
    "        print(f\"{self.name} aged {self.Age} guides the way!\")\n",
    "\n",
    "\n",
    "guide_dog = GuideDog(\"Max\", 8)\n",
    "guide_dog.display_name()\n",
    "guide_dog.sound()\n",
    "guide_dog.guide()"
   ]
  },
  {
   "cell_type": "code",
   "execution_count": 18,
   "id": "54bee5d4",
   "metadata": {},
   "outputs": [
    {
     "name": "stdout",
     "output_type": "stream",
     "text": [
      "Dog's name : Charlie\n",
      "Golden Retriever Barks\n",
      "Charlie guides the way!\n",
      "Friendly!\n"
     ]
    }
   ],
   "source": [
    "# Multiple Inheritance\n",
    "class Dog:\n",
    "    def __init__(self, name):\n",
    "        self.name = name\n",
    "\n",
    "    def display_name(self):\n",
    "        print(f\"Dog's name : {self.name}\")\n",
    "\n",
    "class Labrador(Dog):\n",
    "    def sound(self):\n",
    "        print(\"Labrador Woofs\")\n",
    "\n",
    "class GuideDog(Labrador):          \n",
    "\n",
    "    def guide(self):\n",
    "        print(f\"{self.name} guides the way!\")\n",
    "\n",
    "class Friendly:\n",
    "    def greet(self):\n",
    "        print(\"Friendly!\")\n",
    "\n",
    "class GoldenRetriever(Friendly, GuideDog):\n",
    "    def sound(self):\n",
    "        print(\"Golden Retriever Barks\")\n",
    "\n",
    "\n",
    "retriever = GoldenRetriever(\"Charlie\")\n",
    "retriever.display_name()\n",
    "retriever.sound()\n",
    "retriever.guide()\n",
    "retriever.greet()\n",
    "\n"
   ]
  },
  {
   "cell_type": "code",
   "execution_count": null,
   "id": "69df1c12",
   "metadata": {},
   "outputs": [],
   "source": []
  }
 ],
 "metadata": {
  "kernelspec": {
   "display_name": "Python 3",
   "language": "python",
   "name": "python3"
  },
  "language_info": {
   "codemirror_mode": {
    "name": "ipython",
    "version": 3
   },
   "file_extension": ".py",
   "mimetype": "text/x-python",
   "name": "python",
   "nbconvert_exporter": "python",
   "pygments_lexer": "ipython3",
   "version": "3.12.10"
  }
 },
 "nbformat": 4,
 "nbformat_minor": 5
}
